{
 "cells": [
  {
   "cell_type": "markdown",
   "id": "af95529e",
   "metadata": {},
   "source": [
    "# Copying objects with workspace"
   ]
  },
  {
   "cell_type": "code",
   "execution_count": 2,
   "id": "68f285a9",
   "metadata": {},
   "outputs": [],
   "source": [
    "%run apidemo.py\n",
    "ws_client = util.ws_client()\n",
    "ws_client.copy_object({\n",
    "    \"to\":{\"wsid\":181152,\"name\":\"AnaerobicGMM\"},\n",
    "    \"from\":{\"wsid\":180756,\"name\":\"AnaerobicGMM\"}\n",
    "})"
   ]
  },
  {
   "cell_type": "markdown",
   "id": "58b6e771",
   "metadata": {},
   "source": [
    "# Deleting objects in the workspace"
   ]
  },
  {
   "cell_type": "code",
   "execution_count": 4,
   "id": "bc5c0f3f",
   "metadata": {},
   "outputs": [
    {
     "name": "stdout",
     "output_type": "stream",
     "text": [
      "Output files printed to:/Users/chenry/code/notebooks/KBaseNotebooks/llm_api/nboutput when using KBDevUtils.output_dir\n",
      "ModelSEED: /Users/chenry/code//kb_sdk/run_local/workdir/tmp/\n",
      "Deleting  SF2_B_H2O.8.pg.R\n",
      "Deleting  R1_B_D1.20.pg.R\n",
      "Deleting  R2_B_D2.4.pg.R\n",
      "Deleting  R2_restored_DShore.46.pg.R\n",
      "Deleting  R1_A_D2.21.pg.R\n",
      "Deleting  R1_C_D1.31.pg.R\n",
      "Deleting  R2_A_H2O.29.pg.R\n",
      "Deleting  R2_B_D2.50.pg.R\n",
      "Deleting  R1_B_D2.18.pg.R\n",
      "Deleting  SF2_C_D2.32.pg.R\n",
      "Deleting  R1_A_D1.15.pg.R\n",
      "Deleting  R2_C_D1.88.pg.R\n",
      "Deleting  R2_restored_C_black.57.pg.R\n",
      "Deleting  R2_A_D1.10.pg.R\n",
      "Deleting  SF2_B_D1.44.pg.R\n",
      "Deleting  R2A_A_D1.51.pg.R\n",
      "Deleting  R2A_B_H2O.69.pg.R\n"
     ]
    }
   ],
   "source": [
    "%run apidemo.py\n",
    "ws_client = util.ws_client()\n",
    "\n",
    "list = util.msrecon.kbase_api.list_objects(187797, object_type=\"KBaseGenomes.Genome\", include_metadata=False)\n",
    "\n",
    "for item in list:\n",
    "    if item[1][-5:] == \".pg.R\":\n",
    "        print(\"Deleting \",item[1])\n",
    "        ws_client.delete_objects([{\n",
    "            \"wsid\":187797,\n",
    "            \"name\":item[1]\n",
    "        }])\n",
    "        "
   ]
  },
  {
   "cell_type": "code",
   "execution_count": null,
   "id": "5577049b",
   "metadata": {},
   "outputs": [],
   "source": []
  }
 ],
 "metadata": {
  "kernelspec": {
   "display_name": "Python 3 (ipykernel)",
   "language": "python",
   "name": "python3"
  },
  "language_info": {
   "codemirror_mode": {
    "name": "ipython",
    "version": 3
   },
   "file_extension": ".py",
   "mimetype": "text/x-python",
   "name": "python",
   "nbconvert_exporter": "python",
   "pygments_lexer": "ipython3",
   "version": "3.9.19"
  }
 },
 "nbformat": 4,
 "nbformat_minor": 5
}
