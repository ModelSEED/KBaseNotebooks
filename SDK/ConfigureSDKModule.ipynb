{
 "cells": [
  {
   "cell_type": "code",
   "execution_count": 1,
   "id": "bce84d42-9f7d-4d90-9854-e9770d2967e9",
   "metadata": {
    "collapsed": true,
    "jupyter": {
     "outputs_hidden": true
    },
    "tags": []
   },
   "outputs": [
    {
     "name": "stdout",
     "output_type": "stream",
     "text": [
      "python version 3.9.13\n",
      "KBBaseModules 0.0.1\n",
      "Output files printed to:/Users/chenry/workspace/Notebooks//ModuleBuilder//sessions/default/output when using KBDevUtils.output_dir\n"
     ]
    }
   ],
   "source": [
    "import platform\n",
    "print(\"python version \" + platform.python_version())\n",
    "import string\n",
    "import sys\n",
    "import json\n",
    "from json import dump\n",
    "import os\n",
    "import pandas as pd\n",
    "from pandas import DataFrame, read_csv, concat, set_option\n",
    "from os.path import exists\n",
    "from pathlib import Path\n",
    "import logging\n",
    "import shutil\n",
    "from configparser import ConfigParser\n",
    "\n",
    "config = ConfigParser()\n",
    "if not exists(str(Path.home()) + '/.kbase/config'):    \n",
    "    if exists(\"/scratch/shared/code/sharedconfig.cfg\"):\n",
    "        shutil.copyfile(\"/scratch/shared/code/sharedconfig.cfg\",str(Path.home()) + '/.kbase/config')\n",
    "    else:\n",
    "        print(\"You much create a config file in ~/.kbase/config before running this notebook. See instructions: https://docs.google.com/document/d/1fQ6iS_uaaZKbjWtw1MgzqilklttIibNO9XIIJWgxWKo/edit\")\n",
    "        sys.exit(1)\n",
    "config.read(str(Path.home()) + '/.kbase/config')\n",
    "paths = config.get(\"DevEnv\",\"syspaths\").split(\";\")\n",
    "codebase = config.get(\"DevEnv\",\"codebase\",fallback=\"\")\n",
    "for i,filepath in enumerate(paths):\n",
    "    if filepath[0:1] != \"/\":\n",
    "        paths[i] = codebase+\"/\"+filepath\n",
    "sys.path = paths + sys.path\n",
    "\n",
    "from chenry_utility_module.kbdevutils import KBDevUtils\n",
    "kbdevutil = KBDevUtils(\"ModuleBuilder\")\n",
    "logger = logging.getLogger(__name__)\n",
    "logger.setLevel(logging.INFO)"
   ]
  },
  {
   "cell_type": "markdown",
   "id": "af95529e",
   "metadata": {},
   "source": [
    "# Ensemble Modeling Input"
   ]
  },
  {
   "cell_type": "code",
   "execution_count": 2,
   "id": "68f285a9",
   "metadata": {},
   "outputs": [],
   "source": [
    "params = {\n",
    "    \"module\":\"EnsembleModeling\",\n",
    "    \"directory\":\"/Users/chenry/code/EnsembleModeling\",\n",
    "    \"type\":\"modeling\",\n",
    "    \"author_email\":\"chenry@anl.gov\",\n",
    "    \"functions\":[\"build_ensemble_model\",\"gapfill_ensemble_model\",\"run_ensemble_FBA\"]\n",
    "}"
   ]
  },
  {
   "cell_type": "markdown",
   "id": "fdfd3aa7",
   "metadata": {},
   "source": [
    "# Setting Parameters for Module Configuration"
   ]
  },
  {
   "cell_type": "code",
   "execution_count": 4,
   "id": "85bd5ff3",
   "metadata": {},
   "outputs": [],
   "source": [
    "params = kbdevutil.validate_args(params,[\"module\",\"directory\"],{\n",
    "    \"type\":\"modeling\",#annotation\n",
    "    \"base_image\":\"kbase/sdkpython:3.8.0\",\n",
    "    \"author_email\":\"chenry@anl.gov\",\n",
    "    \"workspace-url\":\"https://kbase.us/services/ws\",\n",
    "    \"functions\":[]\n",
    "})"
   ]
  },
  {
   "cell_type": "markdown",
   "id": "9cc7bf75",
   "metadata": {},
   "source": [
    "# Creating spec for service"
   ]
  },
  {
   "cell_type": "code",
   "execution_count": 8,
   "id": "03bc3eb4-fee6-47af-9149-be869a50b8ee",
   "metadata": {},
   "outputs": [],
   "source": [
    "# Read the template from a file\n",
    "with open('Template.spec', 'r') as file:\n",
    "    template_string = file.read()\n",
    "\n",
    "# Create a Template object\n",
    "template = string.Template(template_string)\n",
    "\n",
    "params[\"function_text\"] = \"\"\n",
    "for item in params[\"functions\"]:\n",
    "    params[\"function_text\"] += \"\\n    funcdef \"+item+\"(mapping<string,UnspecifiedObject> params) returns (ReportResults output) authentication required;\\n\"\n",
    "\n",
    "# Substitute variables in the template\n",
    "result = template.substitute(params)\n",
    "\n",
    "shutil.copy2(params[\"directory\"]+'/'+params[\"module\"]+\".spec\",params[\"directory\"]+'/'+params[\"module\"]+\"Bkup.spec\")\n",
    "with open(params[\"directory\"]+'/'+params[\"module\"]+\".spec\", 'w') as file:\n",
    "    file.write(result)\n",
    "file.close()"
   ]
  },
  {
   "cell_type": "markdown",
   "id": "1a6ee09c",
   "metadata": {},
   "source": [
    "# Compile spec"
   ]
  },
  {
   "cell_type": "code",
   "execution_count": 13,
   "id": "a034ef41-5bf9-433d-94fd-fdd6c328b558",
   "metadata": {},
   "outputs": [
    {
     "data": {
      "text/plain": [
       "CompletedProcess(args='source ~/.bash_profile;cd /Users/chenry/code/EnsembleModeling;make compile', returncode=2, stdout='kb-sdk compile EnsembleModeling.spec \\\\\\n\\t\\t--out lib \\\\\\n\\t\\t--pysrvname EnsembleModeling.EnsembleModelingServer \\\\\\n\\t\\t--pyimplname EnsembleModeling.EnsembleModelingImpl;\\n', stderr='/Users/chenry/bin/kb-sdk: line 8: exec: docker: not found\\nmake: *** [compile] Error 127\\n')"
      ]
     },
     "execution_count": 13,
     "metadata": {},
     "output_type": "execute_result"
    }
   ],
   "source": [
    "#Compiling\n",
    "import subprocess\n",
    "subprocess.run(\"source ~/.bash_profile;cd \"+params[\"directory\"]+\";make compile\", shell=True, capture_output=True, text=True)"
   ]
  },
  {
   "cell_type": "markdown",
   "id": "1c732018",
   "metadata": {},
   "source": [
    "# Editing Impl File"
   ]
  },
  {
   "cell_type": "code",
   "execution_count": 32,
   "id": "b01775c5",
   "metadata": {},
   "outputs": [],
   "source": [
    "#File lines\n",
    "template_text = {\n",
    "    \"header\" : [\n",
    "        'import logging',\n",
    "        'import os',\n",
    "        'import sys',\n",
    "        'sys.path.append(\"/deps/KBBaseModules/\")',\n",
    "        'import json',\n",
    "        'from os.path import exists',\n",
    "        'from '+params[\"module\"]+'.'+params[\"module\"].lower()+' import '+params[\"module\"],\n",
    "        'from installed_clients.KBaseReportClient import KBaseReport',\n",
    "        'from installed_clients.WorkspaceClient import Workspace',\n",
    "        'from installed_clients.DataFileUtilClient import DataFileUtil'\n",
    "    ],\n",
    "    \"init\" : [\n",
    "        '        self.config = config',\n",
    "        '        self.config[\"ATP_media_workspace\"] = \"94026\"',\n",
    "        '        if \"appdev\" in self.config[\"workspace-url\"]:',\n",
    "        '            self.config[\"ATP_media_workspace\"] = \"68393\"',\n",
    "        '        config[\"version\"] = self.VERSION',\n",
    "        '        clients = {',\n",
    "        '            \"Workspace\":Workspace(self.config[\"workspace-url\"], token=os.environ[\"KB_AUTH_TOKEN\"]),',\n",
    "        '            \"KBaseReport\":KBaseReport(os.environ[\"SDK_CALLBACK_URL\"],token=os.environ[\"KB_AUTH_TOKEN\"]),',\n",
    "        '            \"DataFileUtil\":DataFileUtil(os.environ[\"SDK_CALLBACK_URL\"],token=os.environ[\"KB_AUTH_TOKEN\"])',\n",
    "        '        }',\n",
    "        '        self.module = '+params[\"module\"]+'(config,\"/kb/module\",config[\"scratch\"],os.environ[\"KB_AUTH_TOKEN\"],clients,os.environ[\"SDK_CALLBACK_URL\"])',\n",
    "    ]\n",
    "}\n",
    "\n",
    "#Backup impl file\n",
    "shutil.copy2(params[\"directory\"]+\"/lib/\"+params[\"module\"]+\"/\"+params[\"module\"]+'Impl.py',params[\"directory\"]+\"/lib/\"+params[\"module\"]+\"/\"+params[\"module\"]+'ImplBkup.py')\n",
    "#Reading impl file and editing file\n",
    "section = None\n",
    "current_lines = []\n",
    "outfile = open(params[\"directory\"]+\"/lib/\"+params[\"module\"]+\"/\"+params[\"module\"]+'ImplTest.py', 'w')\n",
    "with open(params[\"directory\"]+\"/lib/\"+params[\"module\"]+\"/\"+params[\"module\"]+'ImplBkup.py','r') as infile:\n",
    "    for newline in infile:\n",
    "        newline = newline.rstrip()\n",
    "        if newline == \"#BEGIN_HEADER\":\n",
    "            section = \"header\"\n",
    "        elif newline == \"#END_HEADER\":\n",
    "            if \"header\" in template_text:\n",
    "                for item in template_text[\"header\"]:\n",
    "                    if item not in current_lines:\n",
    "                        current_lines.append(item)\n",
    "            outfile.write(\"#BEGIN_HEADER\\n\"+\"\\n\".join(current_lines)+\"\\n#END_HEADER\\n\")\n",
    "            current_lines = []\n",
    "            section = None\n",
    "        elif newline == \"        #BEGIN_CONSTRUCTOR\":\n",
    "            section = \"init\"\n",
    "        elif newline == \"        #END_CONSTRUCTOR\":\n",
    "            if \"init\" in template_text:\n",
    "                for item in template_text[\"init\"]:\n",
    "                    if item not in current_lines:\n",
    "                        current_lines.append(item)\n",
    "            outfile.write(\"        #BEGIN_CONSTRUCTOR\\n\"+\"\\n\".join(current_lines)+\"\\n        #END_CONSTRUCTOR\\n\")\n",
    "            current_lines = []\n",
    "            section = None\n",
    "        elif section == \"header\" or section == \"init\":\n",
    "            current_lines.append(newline)\n",
    "        elif section == None:\n",
    "            outfile.write(newline+\"\\n\")\n",
    "infile.close()\n",
    "outfile.close()"
   ]
  },
  {
   "cell_type": "markdown",
   "id": "17005889",
   "metadata": {},
   "source": [
    "# Replacing Docker File"
   ]
  },
  {
   "cell_type": "code",
   "execution_count": 2,
   "id": "1f42eac1-a552-4c68-a90b-2328eb7664eb",
   "metadata": {
    "collapsed": true,
    "jupyter": {
     "outputs_hidden": true
    },
    "tags": []
   },
   "outputs": [
    {
     "ename": "SyntaxError",
     "evalue": "invalid syntax (3968764150.py, line 18)",
     "output_type": "error",
     "traceback": [
      "\u001b[0;36m  File \u001b[0;32m\"/var/folders/ph/360gp1jx5zg7qyqv076prl240000gn/T/ipykernel_21061/3968764150.py\"\u001b[0;36m, line \u001b[0;32m18\u001b[0m\n\u001b[0;31m    \"    && pip install pyopenssl --upgrade \\\u001b[0m\n\u001b[0m          ^\u001b[0m\n\u001b[0;31mSyntaxError\u001b[0m\u001b[0;31m:\u001b[0m invalid syntax\n"
     ]
    }
   ],
   "source": [
    "# Read the template from a file\n",
    "template_string = \"\"\n",
    "if params[\"type\"] == \"modeling\":\n",
    "    with open('ModelingDockerfile', 'r') as file:\n",
    "        template_string = file.read()\n",
    "elif params[\"type\"] == \"annotation\":\n",
    "    with open('AnnotationDockerfile', 'r') as file:\n",
    "        template_string = file.read()\n",
    "\n",
    "# Create a Template object\n",
    "template = string.Template(template_string)\n",
    "\n",
    "# Substitute variables in the template\n",
    "result = template.substitute(params)\n",
    "\n",
    "with open(params[\"directory\"]+'/Dockerfile', 'w') as file:\n",
    "    file.write(result)\n",
    "file.close()"
   ]
  },
  {
   "cell_type": "markdown",
   "id": "1a91e050",
   "metadata": {},
   "source": [
    "# Creating Base Module"
   ]
  },
  {
   "cell_type": "code",
   "execution_count": 19,
   "id": "d19ffafb",
   "metadata": {},
   "outputs": [],
   "source": [
    "# Read the template from a file\n",
    "template_string = \"\"\n",
    "if params[\"type\"] == \"modeling\":\n",
    "    with open('ModelingModuleTemplate.py', 'r') as file:\n",
    "        template_string = file.read()\n",
    "elif params[\"type\"] == \"annotation\":\n",
    "    with open('AnnotationModuleTemplate.py', 'r') as file:\n",
    "        template_string = file.read()\n",
    "\n",
    "# Create a Template object\n",
    "template = string.Template(template_string)\n",
    "\n",
    "params[\"module_functions\"] = \"\"\n",
    "for item in params[\"functions\"]:\n",
    "    params[\"module_functions\"] += \\\n",
    "        '    def '+item+'(self,params):'+\"\\n\"+\\\n",
    "        '        self.initialize_call(\"'+item+'\",params,True)'+\"\\n\"+\\\n",
    "        '        self.validate_args(params,[],{})'+\"\\n\"+\\\n",
    "        '        output = {}'+\"\\n\"+\\\n",
    "        '        self.build_dataframe_report(result_table)'+\"\\n\"+\\\n",
    "        '        if params[\"save_report_to_kbase\"]:'+\"\\n\"+\\\n",
    "        '            output = self.save_report_to_kbase()'+\"\\n\"+\\\n",
    "        '        if params[\"return_data\"]:'+\"\\n\"+\\\n",
    "        '            output[\"data\"] = result_table.to_json()'+\"\\n\"+\\\n",
    "        '        return output'+\"\\n\\n\"\n",
    "        \n",
    "# Substitute variables in the template\n",
    "result = template.substitute(params)\n",
    "\n",
    "with open(params[\"directory\"]+\"/lib/\"+params[\"module\"]+\"/\"+params[\"module\"].lower()+'.py', 'w') as file:\n",
    "    file.write(result)\n",
    "file.close()"
   ]
  },
  {
   "cell_type": "code",
   "execution_count": null,
   "id": "963387c3",
   "metadata": {},
   "outputs": [],
   "source": []
  }
 ],
 "metadata": {
  "kernelspec": {
   "display_name": "Python 3 (ipykernel)",
   "language": "python",
   "name": "python3"
  },
  "language_info": {
   "codemirror_mode": {
    "name": "ipython",
    "version": 3
   },
   "file_extension": ".py",
   "mimetype": "text/x-python",
   "name": "python",
   "nbconvert_exporter": "python",
   "pygments_lexer": "ipython3",
   "version": "3.9.0"
  }
 },
 "nbformat": 4,
 "nbformat_minor": 5
}
