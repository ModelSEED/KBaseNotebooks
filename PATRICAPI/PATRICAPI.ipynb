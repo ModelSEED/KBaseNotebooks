{
 "cells": [
  {
   "cell_type": "markdown",
   "metadata": {},
   "source": [
    "# Configure KBase Jupyter Dev Environment"
   ]
  },
  {
   "cell_type": "code",
   "execution_count": 1,
   "metadata": {
    "tags": []
   },
   "outputs": [
    {
     "name": "stdout",
     "output_type": "stream",
     "text": [
      "python version 3.9.13\n",
      "KBBaseModules 0.0.1\n"
     ]
    },
    {
     "name": "stderr",
     "output_type": "stream",
     "text": [
      "1716008752.888874 INFO: Note: NumExpr detected 16 cores but \"NUMEXPR_MAX_THREADS\" not set, so enforcing safe limit of 8.\n",
      "1716008752.889476 INFO: NumExpr defaulting to 8 threads.\n"
     ]
    },
    {
     "name": "stdout",
     "output_type": "stream",
     "text": [
      "modelseedpy 0.3.3\n",
      "cobrakbase 0.3.1\n",
      "Output files printed to:/Users/chenry/code/notebooks/MicrobiomeNotebooks/NewWesternDiet/nboutput when using KBDevUtils.output_dir\n",
      "ModelSEED: /Users/chenry/code//kb_sdk/run_local/workdir/tmp/\n"
     ]
    }
   ],
   "source": [
    "%run patricutil.py\n",
    "logger = logging.getLogger(__name__)\n",
    "logger.setLevel(logging.INFO)"
   ]
  },
  {
   "cell_type": "markdown",
   "metadata": {},
   "source": [
    "# Loading gene list from PATRIC"
   ]
  },
  {
   "cell_type": "code",
   "execution_count": 35,
   "metadata": {
    "jupyter": {
     "source_hidden": true
    },
    "tags": []
   },
   "outputs": [],
   "source": [
    "gene_ids = {}\n",
    "with open('data/gene.lst', 'r') as file:\n",
    "    content = file.read()\n",
    "genes = content.split('\\n')\n",
    "for gene_id in genes:\n",
    "    gene_ids[gene_id] = None\n",
    "util.save(\"genes\", gene_ids)"
   ]
  },
  {
   "cell_type": "markdown",
   "metadata": {},
   "source": [
    "# Pulling sequence MD5s"
   ]
  },
  {
   "cell_type": "code",
   "execution_count": 36,
   "metadata": {
    "jupyter": {
     "source_hidden": true
    },
    "tags": []
   },
   "outputs": [],
   "source": [
    "genes = util.load(\"genes\")\n",
    "gene_list = []\n",
    "bundle_size = 100\n",
    "for i,gene_id in enumerate(genes.keys()):\n",
    "    if genes[gene_id] is None:\n",
    "        gene_list.append(gene_id)\n",
    "    if len(gene_list) >= bundle_size:\n",
    "        query = \",\".join(gene_list)\n",
    "        url = f'https://www.patricbrc.org/api/genome_feature/?in(patric_id,({query}))&select(patric_id,na_sequence_md5)&http_accept=application/json'\n",
    "        response = requests.get(url)\n",
    "        # Check if the request was successful\n",
    "        if response.status_code == 200:\n",
    "            # Parse the JSON response\n",
    "            data = response.json()\n",
    "            for i,gene in enumerate(data):\n",
    "                genes[data[i]['patric_id']] = data[i]['na_sequence_md5']\n",
    "            util.save(\"genes\",genes)\n",
    "        gene_list = []\n",
    "if len(gene_list) > 0:\n",
    "    query = \",\".join(gene_list)\n",
    "    url = f'https://www.patricbrc.org/api/genome_feature/?in(patric_id,({query}))&select(na_sequence_md5)&http_accept=application/json'\n",
    "    response = requests.get(url)\n",
    "    # Check if the request was successful\n",
    "    if response.status_code == 200:\n",
    "        # Parse the JSON response\n",
    "        data = response.json()\n",
    "        for i,gene in enumerate(gene_list):\n",
    "            genes[gene] = data[i]['na_sequence_md5']\n",
    "        util.save(\"genes\",genes)\n"
   ]
  },
  {
   "cell_type": "markdown",
   "metadata": {},
   "source": [
    "# Pulling sequences based on MD5"
   ]
  },
  {
   "cell_type": "code",
   "execution_count": null,
   "metadata": {
    "jupyter": {
     "source_hidden": true
    },
    "tags": []
   },
   "outputs": [],
   "source": [
    "genes = util.load(\"genes\")\n",
    "gen_seqs = {}\n",
    "gene_list = []\n",
    "gene_ids = []\n",
    "for i,gene_id in enumerate(genes.keys()):\n",
    "    if genes[gene_id] is not None:\n",
    "        gene_list.append(genes[gene_id])\n",
    "        gene_ids.append(gene_id)\n",
    "    if len(gene_list) >= 1000:\n",
    "        query = \",\".join(gene_list)\n",
    "        url = f'https://www.patricbrc.org/api/feature_sequence/?in(md5,({gene_list}))&select(sequence)&http_accept=application/json'\n",
    "        response = requests.get(url)\n",
    "        # Check if the request was successful\n",
    "        if response.status_code == 200:\n",
    "            # Parse the JSON response\n",
    "            data = response.json()\n",
    "            for i,gene in enumerate(gene_ids):\n",
    "                gen_seqs[gene] = data[i]['sequence']\n",
    "            util.save(\"genes\",genes)\n",
    "        gene_list = []\n",
    "        gene_ids = []\n",
    "if len(gene_list) > 0:\n",
    "    query = \",\".join(gene_list)\n",
    "    url = f'https://www.patricbrc.org/api/feature_sequence/?in(md5,({gene_list}))&select(sequence)&http_accept=application/json'\n",
    "    response = requests.get(url)\n",
    "    # Check if the request was successful\n",
    "    if response.status_code == 200:\n",
    "        # Parse the JSON response\n",
    "        data = response.json()\n",
    "        for i,gene in enumerate(gene_ids):\n",
    "            gen_seqs[gene] = data[i]['sequence']\n",
    "        util.save(\"genes\",genes)"
   ]
  },
  {
   "cell_type": "markdown",
   "metadata": {},
   "source": [
    "# Querying single gene"
   ]
  },
  {
   "cell_type": "code",
   "execution_count": null,
   "metadata": {
    "jupyter": {
     "source_hidden": true
    },
    "tags": []
   },
   "outputs": [
    {
     "name": "stdout",
     "output_type": "stream",
     "text": [
      "Failed to get gene sequence\n"
     ]
    }
   ],
   "source": [
    "# Replace 'gene_id' with your PATRIC gene ID\n",
    "gene_id = 'fig|1352.9102.rna.4'\n",
    "\n",
    "# Define the URL for the PATRIC API\n",
    "url = f'https://www.patricbrc.org/api/feature_sequence/?eq(gene_id,{gene_id})&select(sequence)&http_accept=application/json'\n",
    "\n",
    "# Send a GET request to the PATRIC API\n",
    "response = requests.get(url)\n",
    "\n",
    "# Check if the request was successful\n",
    "if response.status_code == 200:\n",
    "    # Parse the JSON response\n",
    "    data = response.json()\n",
    "\n",
    "    # Get the gene sequence\n",
    "    gene_sequence = data[0]['sequence']\n",
    "\n",
    "    print(gene_sequence)\n",
    "else:\n",
    "    print('Failed to get gene sequence')"
   ]
  }
 ],
 "metadata": {
  "kernelspec": {
   "display_name": "Python3_ModelSEED",
   "language": "python",
   "name": "python3_modelseed"
  },
  "language_info": {
   "codemirror_mode": {
    "name": "ipython",
    "version": 3
   },
   "file_extension": ".py",
   "mimetype": "text/x-python",
   "name": "python",
   "nbconvert_exporter": "python",
   "pygments_lexer": "ipython3",
   "version": "3.11.1"
  }
 },
 "nbformat": 4,
 "nbformat_minor": 4
}
